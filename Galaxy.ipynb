{
  "nbformat": 4,
  "nbformat_minor": 0,
  "metadata": {
    "colab": {
      "name": "Galaxy.ipynb",
      "provenance": [],
      "collapsed_sections": [],
      "machine_shape": "hm",
      "mount_file_id": "https://github.com/alirezash97/Galaxy-Classification/blob/master/Galaxy.ipynb",
      "authorship_tag": "ABX9TyNXb5CigRZAIyxB1iMfR18Q",
      "include_colab_link": true
    },
    "kernelspec": {
      "name": "python3",
      "display_name": "Python 3"
    }
  },
  "cells": [
    {
      "cell_type": "markdown",
      "metadata": {
        "id": "view-in-github",
        "colab_type": "text"
      },
      "source": [
        "<a href=\"https://colab.research.google.com/github/alirezash97/Galaxy-Classification/blob/master/Galaxy.ipynb\" target=\"_parent\"><img src=\"https://colab.research.google.com/assets/colab-badge.svg\" alt=\"Open In Colab\"/></a>"
      ]
    },
    {
      "cell_type": "code",
      "metadata": {
        "id": "D8IWbWMBamwT",
        "colab_type": "code",
        "outputId": "16a4c52a-1bf0-4081-8f69-949189752c83",
        "colab": {
          "base_uri": "https://localhost:8080/",
          "height": 541
        }
      },
      "source": [
        "!pip install kaggle\n",
        "!mkdir .kaggle\n",
        "# !ls -a\n",
        "import json\n",
        "token = {\"username\":\"alirezashafaei97\",\"key\":\"9cb262aa0c5658ffc4eb45857c41903c\"}\n",
        "with open('/content/.kaggle/kaggle.json', 'w') as file:\n",
        "    json.dump(token, file)\n",
        "!mkdir ~/.kaggle\n",
        "!cp /content/.kaggle/kaggle.json ~/.kaggle/kaggle.json\n",
        "!kaggle config set -n path -v{/content}\n",
        "!chmod 600 /root/.kaggle/kaggle.json\n",
        "# !kaggle datasets list\n",
        "# !kaggle datasets list -s galaxy-zoo\n",
        "!kaggle datasets download -d zhuangjw/galaxy-zoo-cleaned -p /content\n",
        "!unzip /content/galaxy-zoo-cleaned.zip\n",
        "!pip install netCDF4"
      ],
      "execution_count": 1,
      "outputs": [
        {
          "output_type": "stream",
          "text": [
            "Requirement already satisfied: kaggle in /usr/local/lib/python3.6/dist-packages (1.5.6)\n",
            "Requirement already satisfied: certifi in /usr/local/lib/python3.6/dist-packages (from kaggle) (2020.4.5.1)\n",
            "Requirement already satisfied: urllib3<1.25,>=1.21.1 in /usr/local/lib/python3.6/dist-packages (from kaggle) (1.24.3)\n",
            "Requirement already satisfied: python-dateutil in /usr/local/lib/python3.6/dist-packages (from kaggle) (2.8.1)\n",
            "Requirement already satisfied: requests in /usr/local/lib/python3.6/dist-packages (from kaggle) (2.23.0)\n",
            "Requirement already satisfied: tqdm in /usr/local/lib/python3.6/dist-packages (from kaggle) (4.38.0)\n",
            "Requirement already satisfied: python-slugify in /usr/local/lib/python3.6/dist-packages (from kaggle) (4.0.0)\n",
            "Requirement already satisfied: six>=1.10 in /usr/local/lib/python3.6/dist-packages (from kaggle) (1.12.0)\n",
            "Requirement already satisfied: idna<3,>=2.5 in /usr/local/lib/python3.6/dist-packages (from requests->kaggle) (2.9)\n",
            "Requirement already satisfied: chardet<4,>=3.0.2 in /usr/local/lib/python3.6/dist-packages (from requests->kaggle) (3.0.4)\n",
            "Requirement already satisfied: text-unidecode>=1.3 in /usr/local/lib/python3.6/dist-packages (from python-slugify->kaggle) (1.3)\n",
            "Warning: Your Kaggle API key is readable by other users on this system! To fix this, you can run 'chmod 600 /root/.kaggle/kaggle.json'\n",
            "- path is now set to: {/content}\n",
            "Downloading galaxy-zoo-cleaned.zip to /content\n",
            " 99% 2.17G/2.19G [00:32<00:00, 149MB/s]\n",
            "100% 2.19G/2.19G [00:32<00:00, 73.0MB/s]\n",
            "Archive:  /content/galaxy-zoo-cleaned.zip\n",
            "  inflating: galaxy_id_test.csv      \n",
            "  inflating: galaxy_test.nc          \n",
            "  inflating: galaxy_train.nc         \n",
            "  inflating: trained_simple_cnn_galaxy.h5  \n",
            "Collecting netCDF4\n",
            "\u001b[?25l  Downloading https://files.pythonhosted.org/packages/35/4f/d49fe0c65dea4d2ebfdc602d3e3d2a45a172255c151f4497c43f6d94a5f6/netCDF4-1.5.3-cp36-cp36m-manylinux1_x86_64.whl (4.1MB)\n",
            "\u001b[K     |████████████████████████████████| 4.1MB 3.3MB/s \n",
            "\u001b[?25hCollecting cftime\n",
            "\u001b[?25l  Downloading https://files.pythonhosted.org/packages/c3/a7/e32404add6225b1f5a2b9efed6aa5bba918da637c8dd6cf85fe4ad7bfdc4/cftime-1.1.2-cp36-cp36m-manylinux1_x86_64.whl (320kB)\n",
            "\u001b[K     |████████████████████████████████| 327kB 30.6MB/s \n",
            "\u001b[?25hRequirement already satisfied: numpy>=1.7 in /usr/local/lib/python3.6/dist-packages (from netCDF4) (1.18.3)\n",
            "Installing collected packages: cftime, netCDF4\n",
            "Successfully installed cftime-1.1.2 netCDF4-1.5.3\n"
          ],
          "name": "stdout"
        }
      ]
    },
    {
      "cell_type": "code",
      "metadata": {
        "id": "Y4SYO5-PRGxe",
        "colab_type": "code",
        "outputId": "7d221492-4100-443d-89d1-26c576e78a4a",
        "colab": {
          "base_uri": "https://localhost:8080/",
          "height": 34
        }
      },
      "source": [
        "\n",
        "import numpy as np\n",
        "import tensorflow as tf\n",
        "import pandas as pd\n",
        "from PIL import Image\n",
        "import os\n",
        "import matplotlib.pyplot as plt\n",
        "import matplotlib.image as mpimg\n",
        "from tensorflow.keras import layers\n",
        "from tensorflow.keras import Model\n",
        "import cv2\n",
        "from tqdm import tqdm\n",
        "from keras.preprocessing.image import load_img\n",
        "from keras.preprocessing.image import img_to_array\n",
        "from keras.preprocessing.image import ImageDataGenerator\n",
        "from matplotlib import pyplot\n",
        "from numpy import expand_dims\n",
        "from __future__ import absolute_import, division, print_function, unicode_literals\n",
        "import tensorflow as tf\n",
        "from tensorflow.keras import datasets, layers, models\n",
        "import matplotlib.pyplot as plt\n",
        "import keras\n",
        "import tensorflow.keras\n",
        "from keras import backend as K\n"
      ],
      "execution_count": 3,
      "outputs": [
        {
          "output_type": "stream",
          "text": [
            "Using TensorFlow backend.\n"
          ],
          "name": "stderr"
        }
      ]
    },
    {
      "cell_type": "code",
      "metadata": {
        "id": "9ANef6SFp19V",
        "colab_type": "code",
        "colab": {}
      },
      "source": [
        "from netCDF4 import Dataset\n",
        "f = Dataset('/content/galaxy_train.nc')\n",
        "images = f.variables['image_train']\n",
        "labels = f.variables['label_train']\n",
        "t = Dataset('/content/galaxy_test.nc')\n",
        "images_test = t.variables['image_test']\n"
      ],
      "execution_count": 0,
      "outputs": []
    },
    {
      "cell_type": "code",
      "metadata": {
        "id": "YDyVO5QI7HQb",
        "colab_type": "code",
        "outputId": "71da0b2f-05dd-48a4-d15c-77b16d6a8ba9",
        "colab": {
          "base_uri": "https://localhost:8080/",
          "height": 50
        }
      },
      "source": [
        "print(images.shape)\n",
        "print(images_test.shape)"
      ],
      "execution_count": 4,
      "outputs": [
        {
          "output_type": "stream",
          "text": [
            "(61578, 64, 64, 3)\n",
            "(79975, 64, 64, 3)\n"
          ],
          "name": "stdout"
        }
      ]
    },
    {
      "cell_type": "code",
      "metadata": {
        "id": "zqvZhW56en_A",
        "colab_type": "code",
        "colab": {}
      },
      "source": [
        "(train_images, train_labels) = images[:60000], labels[:60000]\n",
        "(test_images, test_labels) = images[60000:61500], labels[60000:61500]\n"
      ],
      "execution_count": 0,
      "outputs": []
    },
    {
      "cell_type": "code",
      "metadata": {
        "id": "xxGIdCWQUk1U",
        "colab_type": "code",
        "colab": {}
      },
      "source": [
        "# # special sample #####\n",
        "# special_sample_image, special_sample_label = images[1500:1501], labels[1500:1501]"
      ],
      "execution_count": 0,
      "outputs": []
    },
    {
      "cell_type": "code",
      "metadata": {
        "id": "Rnc5dmZUcOPa",
        "colab_type": "code",
        "colab": {}
      },
      "source": [
        "train_images = train_images/255\n",
        "test_images = test_images/255"
      ],
      "execution_count": 0,
      "outputs": []
    },
    {
      "cell_type": "code",
      "metadata": {
        "id": "JIMvJPotWD1Q",
        "colab_type": "code",
        "colab": {}
      },
      "source": [
        "\n",
        "\n",
        "def identity_block(X, f, filters, stage, block):\n",
        "\n",
        "\n",
        "  conv_name_base = 'res' + str(stage) + block + '_branch'\n",
        "  bn_name_base = 'bn' + str(stage) + block + '_branch'\n",
        "\n",
        "  F1, F2, F3 = filters \n",
        "  X_shortcut = X\n",
        "\n",
        "  # first component\n",
        "  X = tf.keras.layers.Conv2D(filters = F1, kernel_size=(1, 1), strides=(1, 1),\n",
        "            padding = 'valid', name = conv_name_base + '2a', kernel_initializer ='random_uniform')(X)\n",
        "  X = tf.keras.layers.BatchNormalization(axis = 3, name = bn_name_base + '2a')(X)\n",
        "  X = tf.keras.layers.Activation('relu')(X) \n",
        "\n",
        "  # second component\n",
        "  X = tf.keras.layers.Conv2D(filters = F2, kernel_size=(f, f), strides=(1, 1),\n",
        "            padding = 'same', name = conv_name_base + '2b',kernel_initializer ='random_uniform')(X)\n",
        "  X = tf.keras.layers.BatchNormalization(axis = 3, name = bn_name_base + '2b')(X)\n",
        "  X = tf.keras.layers.Activation('relu')(X) \n",
        "\n",
        "  # Third component\n",
        "  X = tf.keras.layers.Conv2D(filters = F3, kernel_size=(1, 1), strides=(1, 1),\n",
        "            padding = 'valid', name = conv_name_base + '2c',kernel_initializer ='random_uniform')(X)\n",
        "  X = tf.keras.layers.BatchNormalization(axis = 3, name = bn_name_base + '2c')(X)\n",
        "  X = tf.keras.layers.Activation('relu')(X) \n",
        "\n",
        "  # Final step \n",
        "  X = tf.keras.layers.Add()([X, X_shortcut])\n",
        "  X = tf.keras.layers.Activation('relu')(X)\n",
        "\n",
        "  return X\n",
        "\n"
      ],
      "execution_count": 0,
      "outputs": []
    },
    {
      "cell_type": "code",
      "metadata": {
        "id": "yYjuq7iFZw2v",
        "colab_type": "code",
        "colab": {}
      },
      "source": [
        "def convolutional_block(X, f, filters, stage, block, s):\n",
        "  \n",
        "  \n",
        "  conv_name_base = 'res' + str(stage) + block + '_branch'\n",
        "  bn_name_base = 'bn' + str(stage) + block + '_branch'\n",
        "\n",
        "  F1, F2, F3 = filters \n",
        "  X_shortcut = X\n",
        "\n",
        "  # first component\n",
        "  X = tf.keras.layers.Conv2D(filters = F1, kernel_size=(1, 1), strides=(s, s),\n",
        "            padding = 'valid', name = conv_name_base + '2a', kernel_initializer ='random_uniform')(X)\n",
        "  X = tf.keras.layers.BatchNormalization(axis = 3, name = bn_name_base + '2a')(X)\n",
        "  X = tf.keras.layers.Activation('relu')(X) \n",
        "\n",
        "  # second component\n",
        "  X = tf.keras.layers.Conv2D(filters = F2, kernel_size=(f, f), strides=(1, 1),\n",
        "            padding = 'same', name = conv_name_base + '2b', kernel_initializer ='random_uniform')(X)\n",
        "  X = tf.keras.layers.BatchNormalization(axis = 3, name = bn_name_base + '2b')(X)\n",
        "  X = tf.keras.layers.Activation('relu')(X) \n",
        "\n",
        "  # Third component\n",
        "  X = tf.keras.layers.Conv2D(filters = F3, kernel_size=(1, 1), strides=(1, 1),\n",
        "            padding = 'valid', name = conv_name_base + '2c', kernel_initializer ='random_uniform')(X)\n",
        "  X = tf.keras.layers.BatchNormalization(axis = 3, name = bn_name_base + '2c')(X)\n",
        "  X = tf.keras.layers.Activation('relu')(X) \n",
        "\n",
        "  ###### shortcut path ######\n",
        "  X_shortcut = tf.keras.layers.Conv2D(filters=F3, kernel_size=(1, 1), strides=(s, s), padding='valid',\n",
        "                      name = conv_name_base + '1', kernel_initializer ='random_uniform')(X_shortcut)\n",
        "  X_shortcut = tf.keras.layers.BatchNormalization(axis = 3, name = bn_name_base + '1')(X_shortcut)\n",
        "\n",
        "\n",
        "  # Final step \n",
        "  X = tf.keras.layers.Add()([X, X_shortcut])\n",
        "  X = tf.keras.layers.Activation('relu')(X)\n",
        "\n",
        "  return X\n",
        "\n",
        "\n"
      ],
      "execution_count": 0,
      "outputs": []
    },
    {
      "cell_type": "code",
      "metadata": {
        "id": "9e1BlOB8cAsD",
        "colab_type": "code",
        "colab": {}
      },
      "source": [
        "def ResNet50(input_shape, classes):\n",
        "    \n",
        "    # Define the input as a tensor with shape input_shape\n",
        "    X_input = tf.keras.Input(input_shape)\n",
        "\n",
        "    \n",
        "    # Zero-Padding\n",
        "    X = tf.keras.layers.ZeroPadding2D((3, 3))(X_input)\n",
        "    \n",
        "    # Stage 1\n",
        "    X = tf.keras.layers.Conv2D(64, (7, 7), strides = (2, 2), name = 'conv1', kernel_initializer = 'random_uniform')(X)\n",
        "    X = tf.keras.layers.BatchNormalization(axis = 3, name = 'bn_conv1')(X)\n",
        "    X = tf.keras.layers.Activation('relu')(X)\n",
        "    X = tf.keras.layers.MaxPooling2D((3, 3), strides=(2, 2))(X)\n",
        "\n",
        "    # Stage 2\n",
        "    X = convolutional_block(X, f = 3, filters = [64, 64, 256], stage = 2, block='a', s = 1)\n",
        "    X = identity_block(X, 3, [64, 64, 256], stage=2, block='b')\n",
        "    X = identity_block(X, 3, [64, 64, 256], stage=2, block='c')\n",
        "\n",
        "    # Stage 3\n",
        "    X = convolutional_block(X, f=3, filters=[128, 128, 512], stage=3, block='a', s=2)\n",
        "    X = identity_block(X, 3, [128, 128, 512], stage=3, block='b')\n",
        "    X = identity_block(X, 3, [128, 128, 512], stage=3, block='c')\n",
        "    X = identity_block(X, 3, [128, 128, 512], stage=3, block='d')\n",
        "\n",
        "    # Stage 4\n",
        "    X = convolutional_block(X, f=3, filters=[256, 256, 1024], stage=4, block='a', s=2)\n",
        "    X = identity_block(X, 3, [256, 256, 1024], stage=4, block='b')\n",
        "    X = identity_block(X, 3, [256, 256, 1024], stage=4, block='c')\n",
        "    X = identity_block(X, 3, [256, 256, 1024], stage=4, block='d')\n",
        "    X = identity_block(X, 3, [256, 256, 1024], stage=4, block='e')\n",
        "    X = identity_block(X, 3, [256, 256, 1024], stage=4, block='f')\n",
        "\n",
        "    # Stage 5\n",
        "    X = convolutional_block(X, f=3, filters=[512, 512, 2048], stage=5, block='a', s=2)\n",
        "    X = identity_block(X, 3, [512, 512, 2048], stage=5, block='b')\n",
        "    X = identity_block(X, 3, [512, 512, 2048], stage=5, block='c')\n",
        "\n",
        "    # AVGPOOL\n",
        "    X = tf.keras.layers.AveragePooling2D(pool_size=(2,2), padding='same')(X)\n",
        "\n",
        "    # Output layer\n",
        "    X = tf.keras.layers.Flatten()(X)\n",
        "    X = tf.keras.layers.Dense(classes, activation='sigmoid', name='fc' + str(classes),kernel_initializer ='random_uniform')(X)\n",
        "    \n",
        "    \n",
        "    # Create model\n",
        "    model = Model(inputs = X_input, outputs = X, name='ResNet50')\n",
        "\n",
        "    return model"
      ],
      "execution_count": 0,
      "outputs": []
    },
    {
      "cell_type": "code",
      "metadata": {
        "id": "io3yQ6i6cNAh",
        "colab_type": "code",
        "colab": {}
      },
      "source": [
        "\n",
        "model = ResNet50(input_shape = (64, 64, 3), classes = 37)\n",
        "model.compile(optimizer='adam', loss='categorical_crossentropy', metrics=['accuracy'])"
      ],
      "execution_count": 0,
      "outputs": []
    },
    {
      "cell_type": "code",
      "metadata": {
        "id": "v7pgO0Qijc7R",
        "colab_type": "code",
        "outputId": "9fa36e0d-6a9b-402d-acf6-76d6dc7db5a3",
        "colab": {
          "base_uri": "https://localhost:8080/",
          "height": 134
        }
      },
      "source": [
        "model.fit(train_images, train_labels, epochs = 3, batch_size = 128)"
      ],
      "execution_count": 0,
      "outputs": [
        {
          "output_type": "stream",
          "text": [
            "Epoch 1/3\n",
            "469/469 [==============================] - 3863s 8s/step - loss: 14.6416 - accuracy: 0.5861\n",
            "Epoch 2/3\n",
            "469/469 [==============================] - 3869s 8s/step - loss: 14.2915 - accuracy: 0.6675\n",
            "Epoch 3/3\n",
            "469/469 [==============================] - 3851s 8s/step - loss: 14.2850 - accuracy: 0.6889\n"
          ],
          "name": "stdout"
        },
        {
          "output_type": "execute_result",
          "data": {
            "text/plain": [
              "<tensorflow.python.keras.callbacks.History at 0x7f9557459240>"
            ]
          },
          "metadata": {
            "tags": []
          },
          "execution_count": 10
        }
      ]
    },
    {
      "cell_type": "code",
      "metadata": {
        "id": "wHAU49PNQPmt",
        "colab_type": "code",
        "colab": {}
      },
      "source": [
        "from tensorflow.keras.preprocessing.image import img_to_array\n",
        "from tensorflow.keras.models import load_model\n",
        "\n",
        "\n",
        "# load model\n",
        "model = load_model('/content/drive/My Drive/galaxy trained model/model.h5')\n",
        "# summarize model.\n",
        "model.summary()\n"
      ],
      "execution_count": 0,
      "outputs": []
    },
    {
      "cell_type": "code",
      "metadata": {
        "id": "y5ULBbd6u9ut",
        "colab_type": "code",
        "colab": {
          "base_uri": "https://localhost:8080/",
          "height": 34
        },
        "outputId": "2ed1dedf-6432-40ec-84de-f5638927da05"
      },
      "source": [
        "datagen = tf.keras.preprocessing.image.ImageDataGenerator(\n",
        "    featurewise_center=True,\n",
        "    featurewise_std_normalization=True,\n",
        "    rotation_range=20,\n",
        "    width_shift_range=0.2,\n",
        "    height_shift_range=0.2,\n",
        "    horizontal_flip=True)\n",
        "datagen.fit(train_images)\n",
        "\n",
        "\n",
        "history = model.fit_generator(datagen.flow(train_images, train_labels, batch_size=256),\n",
        "                    steps_per_epoch=len(train_images) / 256, epochs=1)"
      ],
      "execution_count": 20,
      "outputs": [
        {
          "output_type": "stream",
          "text": [
            "235/234 [==============================] - 4087s 17s/step - loss: 14.3031 - accuracy: 0.7061\n"
          ],
          "name": "stdout"
        }
      ]
    },
    {
      "cell_type": "code",
      "metadata": {
        "id": "9tZDKCrzGdpf",
        "colab_type": "code",
        "outputId": "5ac3e68f-794a-4c54-8fa1-f6f8e0958ea1",
        "colab": {
          "base_uri": "https://localhost:8080/",
          "height": 50
        }
      },
      "source": [
        "scores = model.evaluate(test_images, test_labels)\n",
        "model.save(\"/content/drive/My Drive/galaxy trained model/Augmented_model.h5\")\n",
        "print(\"Saved model to disk\")"
      ],
      "execution_count": 21,
      "outputs": [
        {
          "output_type": "stream",
          "text": [
            "47/47 [==============================] - 10s 214ms/step - loss: 17.9509 - accuracy: 0.5907\n",
            "Saved model to disk\n"
          ],
          "name": "stdout"
        }
      ]
    },
    {
      "cell_type": "code",
      "metadata": {
        "id": "5XQyNVifSTBv",
        "colab_type": "code",
        "colab": {}
      },
      "source": [
        "prediction = model.predict(test_images, batch_size=64)"
      ],
      "execution_count": 0,
      "outputs": []
    },
    {
      "cell_type": "code",
      "metadata": {
        "id": "_NsNXo9TTcMo",
        "colab_type": "code",
        "colab": {}
      },
      "source": [
        "from sklearn.tree import DecisionTreeRegressor # Import Decision Tree Classifier\n",
        "from sklearn.model_selection import train_test_split # Import train_test_split function\n",
        "from sklearn import metrics #Import scikit-learn metrics module for accuracy calculation\n",
        "\n",
        "\n",
        "special_prediction = model.predict(special_sample_image)\n",
        "# Create Decision Tree classifer object\n",
        "clf = DecisionTreeRegressor()\n",
        "\n",
        "# Train Decision Tree Classifer\n",
        "clf = clf.fit(prediction, test_labels)\n",
        "\n",
        "#Predict the response for test dataset\n",
        "y_pred = clf.predict(special_prediction)\n",
        "\n",
        "\n",
        "\n"
      ],
      "execution_count": 0,
      "outputs": []
    },
    {
      "cell_type": "code",
      "metadata": {
        "id": "F31ZNLVWV80E",
        "colab_type": "code",
        "outputId": "4c97211d-cff4-4326-ce75-f4f856683225",
        "colab": {
          "base_uri": "https://localhost:8080/",
          "height": 252
        }
      },
      "source": [
        "\n",
        "print(y_pred)\n",
        "print(special_sample_label)"
      ],
      "execution_count": 0,
      "outputs": [
        {
          "output_type": "stream",
          "text": [
            "[[0.         1.         0.         0.059619   0.94038099 0.78539115\n",
            "  0.15498984 0.92826325 0.01211775 0.         0.42122674 0.45301819\n",
            "  0.06613605 0.185486   0.81451398 0.         0.         0.\n",
            "  0.1112916  0.         0.0370972  0.0370972  0.         0.\n",
            "  0.         0.059619   0.         0.         0.27397969 0.62240887\n",
            "  0.03187563 0.         0.85712206 0.04611148 0.         0.\n",
            "  0.02502969]]\n",
            "[[0.855726   0.098069   0.046205   0.         0.098069   0.\n",
            "  0.098069   0.         0.098069   0.         0.03400798 0.03092018\n",
            "  0.03314085 0.419136   0.580864   0.6955675  0.16015853 0.\n",
            "  0.         0.02978842 0.         0.         0.2395664  0.14978118\n",
            "  0.         0.         0.         0.         0.         0.\n",
            "  0.         0.         0.         0.         0.         0.\n",
            "  0.        ]]\n"
          ],
          "name": "stdout"
        }
      ]
    },
    {
      "cell_type": "code",
      "metadata": {
        "id": "xxqjgDxKXH1h",
        "colab_type": "code",
        "outputId": "476c2902-b09c-48a8-8a56-da9524fee885",
        "colab": {
          "base_uri": "https://localhost:8080/",
          "height": 50
        }
      },
      "source": [
        "a = y_pred - special_sample_label\n",
        "b = special_prediction - special_sample_label\n",
        "print(np.sum(np.square(a)))\n",
        "print(np.sum(np.square(b)))"
      ],
      "execution_count": 0,
      "outputs": [
        {
          "output_type": "stream",
          "text": [
            "5.998199333426978\n",
            "5.2012835\n"
          ],
          "name": "stdout"
        }
      ]
    },
    {
      "cell_type": "code",
      "metadata": {
        "id": "7uGEdG5bXtQb",
        "colab_type": "code",
        "outputId": "1dbdef39-9169-40eb-d819-5b83c2f2e3b0",
        "colab": {
          "base_uri": "https://localhost:8080/",
          "height": 34
        }
      },
      "source": [
        "scores1 = model.evaluate(special_sample_image, special_sample_label)"
      ],
      "execution_count": 0,
      "outputs": [
        {
          "output_type": "stream",
          "text": [
            "1/1 [==============================] - 0s 1ms/step - loss: 11.7066 - accuracy: 0.0000e+00\n"
          ],
          "name": "stdout"
        }
      ]
    },
    {
      "cell_type": "code",
      "metadata": {
        "id": "G0dp570OYcpS",
        "colab_type": "code",
        "colab": {}
      },
      "source": [
        ""
      ],
      "execution_count": 0,
      "outputs": []
    }
  ]
}